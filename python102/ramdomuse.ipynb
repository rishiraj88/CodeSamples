{
 "cells": [
  {
   "cell_type": "code",
   "execution_count": 2,
   "id": "25ae4189-46b7-4c4c-9892-f05f95616023",
   "metadata": {},
   "outputs": [
    {
     "name": "stdout",
     "output_type": "stream",
     "text": [
      "Registered Nurse is a very good option with monetory motive.\n"
     ]
    }
   ],
   "source": [
    "import random\n",
    "careerOptions = ['Dentist','Registered Nurse','Pharmacist','Computer Systems Analyst','Physician','Database Administrator','Software Developer','Physical Therapist','Web Developer','Dental Hygienist','Occupational Therapist','Veterinarian','Computer Programmer','School Psychologist','Physical Therapist Assistant','Interpreter & Translator','Mechanical Engineer','Veterinary Technologist & Technician','Epidemiologist','IT Manager','Market Research Analyst','Diagnostic Medical Sonographer','Computer Systems Administrator','Respiratory Therapist','Medical Secretary','Civil Engineer','Substance Abuse Counselor','Speech-Language Pathologist','Landscaper & Groundskeeper','Radiologic Technologist','Cost Estimator','Financial Advisor','Marriage & Family Therapist','Medical Assistant','Lawyer']\n",
    "selection = random.choice(careerOptions)\n",
    "print(selection,'is a very good option with monetory motive.')"
   ]
  },
  {
   "cell_type": "code",
   "execution_count": null,
   "id": "d6b9caa9-fa69-4e1c-b2f4-6679f86ed6a5",
   "metadata": {},
   "outputs": [],
   "source": []
  }
 ],
 "metadata": {
  "kernelspec": {
   "display_name": "Python 3 (ipykernel)",
   "language": "python",
   "name": "python3"
  },
  "language_info": {
   "codemirror_mode": {
    "name": "ipython",
    "version": 3
   },
   "file_extension": ".py",
   "mimetype": "text/x-python",
   "name": "python",
   "nbconvert_exporter": "python",
   "pygments_lexer": "ipython3",
   "version": "3.11.4"
  }
 },
 "nbformat": 4,
 "nbformat_minor": 5
}
